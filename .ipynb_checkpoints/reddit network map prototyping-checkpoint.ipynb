{
 "cells": [
  {
   "cell_type": "markdown",
   "metadata": {},
   "source": [
    "# Step 1: instantiate"
   ]
  },
  {
   "cell_type": "code",
   "execution_count": 27,
   "metadata": {},
   "outputs": [
    {
     "name": "stdout",
     "output_type": "stream",
     "text": [
      "FE5apSBviVjlEQ\n",
      "4lOv7xDgIn-XzFBmyFeBB8REpkTQzQ\n",
      "S4nh4k1mi99e\n"
     ]
    }
   ],
   "source": [
    "import praw\n",
    "import numpy as np\n",
    "import pandas as pd\n",
    "from pyvis.network import Network\n",
    "from decouple import config\n",
    "from collections import Counter\n",
    "\n",
    "sub_of_interest = 'FemaleDatingStrategy'\n",
    "hard_limit = 6\n",
    "\n",
    "r_client_id = config('REDDIT-CLIENT-ID')\n",
    "print(r_client_id)\n",
    "secret = config('REDDIT-SECRET')\n",
    "print(secret)\n",
    "r_id = config(\"USER\")\n",
    "r_pw = config(\"PW\")\n",
    " \n",
    "# ===== Instantiate Reddit instance =====\n",
    "reddit = praw.Reddit(\n",
    "    client_id= r_client_id,\n",
    "    client_secret=secret,\n",
    "    username=r_id,\n",
    "    password=r_pw,\n",
    "    user_agent='1'\n",
    ")"
   ]
  },
  {
   "cell_type": "markdown",
   "metadata": {},
   "source": [
    "# Step 2: Define functions\n",
    "\n",
    "## Step 2.1: define function to obtain recent redditors of a subreddit\n",
    "\n",
    "## Step 2.2: define fucntion to obtain recent subreddits to which a redditor has posted to"
   ]
  },
  {
   "cell_type": "code",
   "execution_count": 32,
   "metadata": {},
   "outputs": [],
   "source": [
    "def get_users(sub=sub_of_interest, post_count=8, comment_count=12):\n",
    "    \"\"\"\n",
    "    Finds the most recently active users in a subreddit. It's easier to comment than to post on a subreddit, so more comments are collected.\n",
    "    :param subreddit: subreddit to crawl\n",
    "    :param posts_count: number of posts to search for\n",
    "    :param comments_count: number of comments to search for\n",
    "    :return: List of usernames who were recently active in a subreddit\n",
    "    \"\"\"\n",
    "    # === Obtain list of posters and commentors ===\n",
    "    posters = [\n",
    "        s.author.name                                         #<- Redditor who posted\n",
    "        for s in reddit.subreddit(sub).new(limit=post_count)  #<- from most recent posts\n",
    "        if s.author.name != \"AutoModerator\"                   #<- remove auto moderator\n",
    "    ]\n",
    "    \n",
    "    # --- Same with commentors ---\n",
    "    commenters = [\n",
    "        c.author.name\n",
    "        for c in reddit.subreddit(sub).comments(limit=comment_count)  \n",
    "        if c.author.name != \"AutoModerator\"\n",
    "    ]\n",
    "    \n",
    "    # === Combine the posters and commentors ===\n",
    "    redditors = posters + commenters    \n",
    "    # --- Remove duplicates\n",
    "    unique_redditors = list(set(redditors))\n",
    "    \n",
    "    return unique_redditors\n",
    "\n",
    "\n",
    "def activity_list(redditor_list, lim=12, filter_soi=True):\n",
    "    \"\"\"\n",
    "    Get names of subreddits to which users have posted to.\n",
    "    :param redditor_list: list of redditor usernames\n",
    "    :param lim: number of posts to limit to; default 12\n",
    "    \"\"\"\n",
    "    \n",
    "    # === Define lists to store subreddits where redditor has posted and commented to ===\n",
    "    posts_subreddits = []\n",
    "    comments_subreddits = []\n",
    "    \n",
    "    # === \n",
    "    # Iterate over list of redditors and store the names of the subreddits where they posted and store \n",
    "    # them in the list to a certain length \n",
    "    # ===\n",
    "    \n",
    "    # --- While loop to control for length of list ---\n",
    "    while len(posts_subreddits) < lim:\n",
    "        # -- Iterate over list of redditors --\n",
    "        for r in redditor_list:\n",
    "            \n",
    "            posts = reddit.redditor(r).submissions.new(limit=lim) #<- new submissions from redditors\n",
    "            \n",
    "            # - Iterate over posts/submissions -\n",
    "            for submission in posts:\n",
    "                # Skip if they posted in the subreddit that we're scraping, otherwise store to list\n",
    "                if submission.subreddit.display_name == sub_of_interest:\n",
    "                    if filter_soi is False:\n",
    "                        posts_subreddits.append(submission.subreddit.display_name)                    \n",
    "                else:\n",
    "                    posts_subreddits.append(submission.subreddit.display_name)\n",
    "    \n",
    "    # --- Same with comments ---\n",
    "    while len(comments_subreddits) < lim:\n",
    "        for r in redditor_list:\n",
    "            \n",
    "            comments = reddit.redditor(r).comments.new(limit=lim)\n",
    "            \n",
    "            for comment in comments:\n",
    "                if comment.subreddit.display_name == sub_of_interest:\n",
    "                    if filter_soi is False:\n",
    "                        posts_subreddits.append(submission.subreddit.display_name)\n",
    "                else:\n",
    "                    comments_subreddits.append(comment.subreddit.display_name)\n",
    "            \"\"\"\n",
    "            for submission, comment in zip(posts, comments):\n",
    "                if submission.subreddit.display_name != sub_of_interest and filter_soi:\n",
    "                    posts_subreddits.append(submission.subreddit.display_name)\n",
    "                if comment.subreddit.display_name != sub_of_interest and filter_soi:\n",
    "                    comments_subreddits.append(comment.subreddit.display_name)\n",
    "                elif filter_soi is False:\n",
    "                    posts_subreddits.append(submission.subreddit.display_name)\n",
    "                    comments_subreddits.append(comment.subreddit.display_name)\n",
    "            \"\"\"\n",
    "            \n",
    "    return posts_subreddits, comments_subreddits\n",
    "\n",
    "\n",
    "def get_redditors_activity(posts_subreddits_list, comments_subreddits_list):\n",
    "    posts_weight = {sub: posts_subreddits_list.count(sub)+3 for sub in posts_subreddits_list}\n",
    "    comments_weight = {com: comments_subreddits_list.count(com) for com in comments_subreddits_list}\n",
    "    \n",
    "    def merg_sum(a, b):\n",
    "        for k in b:\n",
    "            if k in a:\n",
    "                b[k] = b[k] + a[k]\n",
    "        c = {**a, **b}\n",
    "        return c\n",
    "    \n",
    "    activity_weight = merg_sum(posts_weight, comments_weight)\n",
    "    \n",
    "    #activity_subreddits = list(set(posts_subreddits_list + comments_subreddits_list))\n",
    "    \n",
    "    return activity_weight"
   ]
  },
  {
   "cell_type": "markdown",
   "metadata": {},
   "source": [
    "# Step 3: get redditors from the sub of interest and their recently active subreddits"
   ]
  },
  {
   "cell_type": "code",
   "execution_count": 3,
   "metadata": {
    "scrolled": false
   },
   "outputs": [
    {
     "name": "stdout",
     "output_type": "stream",
     "text": [
      "['lietietbie', 'Mysterious_Call_924', 'Aocwannabe', 'Love_Artemis', 'NowTruly', 'Spittens', 'daisy_0720', 'Fun_Sherbet', 'HereForTheFreeFoodOk', 'say10s-exwife', 'Vervibes', 'horeya33', 'LetsGetin_Formation', 'Elitane', 'hiphopradish', 'losersquad711', 'buzzkillyall', 'souredskittles', 'mandoa_sky', '_xyoungbellax_', 'The_Cat_Empress', 'Nonnasaysfuckoff', 'poppy03', 'pickmieshaexorcist', 'extragouda', 'europoor24']\n"
     ]
    }
   ],
   "source": [
    "redditors = get_users(sub_of_interest, post_count=12, comment_count=20)\n",
    "\n",
    "print(redditors)"
   ]
  },
  {
   "cell_type": "code",
   "execution_count": 24,
   "metadata": {},
   "outputs": [
    {
     "name": "stdout",
     "output_type": "stream",
     "text": [
      "['Anemic', 'FemaleHairLoss', 'bettafish', 'puppy', 'CAKEWIN', 'cake', 'catpics', 'childfree', 'FierceFemaleAmbition', 'fourthwavewomen', 'BPD', 'BPD', 'BPD', 'BPD', 'BPD', 'ShittyVeganFoodPorn', 'MajidJordan', 'lebanon', 'IWantOut', 'lebanon', 'perfectlycutscreams', 'Advice', 'quityourbullshit', 'Advice', 'AskMenAdvice', 'AskMen', 'travel', 'dating_advice', 'travel', 'dating', 'solotravel', 'Conservative', 'usa', 'BreakUps', 'BreakUps', 'FemaleLevelUpStrategy', 'FemaleLevelUpStrategy', 'WitchesVsPatriarchy', 'freebooks', 'u_mandoa_sky', 'ForeverAloneWomen', 'FemaleLevelUpStrategy', 'migraine', 'hackintosh', 'FemaleLevelUpStrategy', 'WeightLossAdvice', 'FemaleLevelUpStrategy', 'intj', 'Infidelity', 'FemaleLevelUpStrategy']\n",
      "59\n"
     ]
    }
   ],
   "source": [
    "p, c = activity_list(redditors, lim=8, filter_soi=True)\n",
    "\n",
    "print(p)\n",
    "print(len(c))"
   ]
  },
  {
   "cell_type": "code",
   "execution_count": 33,
   "metadata": {},
   "outputs": [
    {
     "name": "stdout",
     "output_type": "stream",
     "text": [
      "{'Anemic': 6, 'FemaleHairLoss': 4, 'bettafish': 4, 'puppy': 4, 'CAKEWIN': 4, 'cake': 4, 'catpics': 4, 'childfree': 4, 'FierceFemaleAmbition': 4, 'fourthwavewomen': 4, 'BPD': 9, 'ShittyVeganFoodPorn': 4, 'MajidJordan': 5, 'lebanon': 7, 'IWantOut': 4, 'perfectlycutscreams': 4, 'Advice': 5, 'quityourbullshit': 4, 'AskMenAdvice': 4, 'AskMen': 4, 'travel': 6, 'dating_advice': 4, 'dating': 4, 'solotravel': 4, 'Conservative': 4, 'usa': 4, 'BreakUps': 5, 'FemaleLevelUpStrategy': 14, 'WitchesVsPatriarchy': 5, 'freebooks': 4, 'u_mandoa_sky': 4, 'ForeverAloneWomen': 4, 'migraine': 5, 'hackintosh': 4, 'WeightLossAdvice': 4, 'intj': 4, 'Infidelity': 4, 'SkincareAddiction': 1, 'AskReddit': 1, 'BeAmazed': 1, 'Gastritis': 1, 'worldnews': 1, 'foodies_sydney': 1, 'nextfuckinglevel': 2, 'TooAfraidToAsk': 1, 'analog': 1, 'BPDmemes': 1, 'AbruptChaos': 1, 'unpopularopinion': 1, 'europe': 1, 'EarthPorn': 1, 'relationship_advice': 2, 'relationships': 2, 'aldi': 1, 'Iowa': 1, 'Bumble': 3, 'AskNYC': 1, 'startups': 1, 'nocontact': 1, 'Vindicta': 2, 'AskWomenOver30': 3, 'TwoXADHD': 2, 'FDSSuperFans': 1, 'whenthe': 1, 'happy': 1, 'PetiteFitness': 1, 'PlasticSurgery': 4, 'TwoXChromosomes': 1, 'Menopause': 1, 'endometriosis': 1}\n"
     ]
    }
   ],
   "source": [
    "activity_weight = get_redditors_activity(p, c)\n",
    "\n",
    "print(activity_weight)"
   ]
  },
  {
   "cell_type": "markdown",
   "metadata": {},
   "source": [
    "# Step 4: convert the list of primary network into a dataframe"
   ]
  },
  {
   "cell_type": "code",
   "execution_count": 37,
   "metadata": {},
   "outputs": [
    {
     "name": "stdout",
     "output_type": "stream",
     "text": [
      "Key: Anemic; value: 6\n",
      "Key: FemaleHairLoss; value: 4\n",
      "Key: bettafish; value: 4\n",
      "Key: puppy; value: 4\n",
      "Key: CAKEWIN; value: 4\n",
      "Key: cake; value: 4\n",
      "Key: catpics; value: 4\n",
      "Key: childfree; value: 4\n",
      "Key: FierceFemaleAmbition; value: 4\n",
      "Key: fourthwavewomen; value: 4\n",
      "Key: BPD; value: 9\n",
      "Key: ShittyVeganFoodPorn; value: 4\n",
      "Key: MajidJordan; value: 5\n",
      "Key: lebanon; value: 7\n",
      "Key: IWantOut; value: 4\n",
      "Key: perfectlycutscreams; value: 4\n",
      "Key: Advice; value: 5\n",
      "Key: quityourbullshit; value: 4\n",
      "Key: AskMenAdvice; value: 4\n",
      "Key: AskMen; value: 4\n",
      "Key: travel; value: 6\n",
      "Key: dating_advice; value: 4\n",
      "Key: dating; value: 4\n",
      "Key: solotravel; value: 4\n",
      "Key: Conservative; value: 4\n",
      "Key: usa; value: 4\n",
      "Key: BreakUps; value: 5\n",
      "Key: FemaleLevelUpStrategy; value: 14\n",
      "Key: WitchesVsPatriarchy; value: 5\n",
      "Key: freebooks; value: 4\n",
      "Key: u_mandoa_sky; value: 4\n",
      "Key: ForeverAloneWomen; value: 4\n",
      "Key: migraine; value: 5\n",
      "Key: hackintosh; value: 4\n",
      "Key: WeightLossAdvice; value: 4\n",
      "Key: intj; value: 4\n",
      "Key: Infidelity; value: 4\n",
      "Key: SkincareAddiction; value: 1\n",
      "Key: AskReddit; value: 1\n",
      "Key: BeAmazed; value: 1\n",
      "Key: Gastritis; value: 1\n",
      "Key: worldnews; value: 1\n",
      "Key: foodies_sydney; value: 1\n",
      "Key: nextfuckinglevel; value: 2\n",
      "Key: TooAfraidToAsk; value: 1\n",
      "Key: analog; value: 1\n",
      "Key: BPDmemes; value: 1\n",
      "Key: AbruptChaos; value: 1\n",
      "Key: unpopularopinion; value: 1\n",
      "Key: europe; value: 1\n",
      "Key: EarthPorn; value: 1\n",
      "Key: relationship_advice; value: 2\n",
      "Key: relationships; value: 2\n",
      "Key: aldi; value: 1\n",
      "Key: Iowa; value: 1\n",
      "Key: Bumble; value: 3\n",
      "Key: AskNYC; value: 1\n",
      "Key: startups; value: 1\n",
      "Key: nocontact; value: 1\n",
      "Key: Vindicta; value: 2\n",
      "Key: AskWomenOver30; value: 3\n",
      "Key: TwoXADHD; value: 2\n",
      "Key: FDSSuperFans; value: 1\n",
      "Key: whenthe; value: 1\n",
      "Key: happy; value: 1\n",
      "Key: PetiteFitness; value: 1\n",
      "Key: PlasticSurgery; value: 4\n",
      "Key: TwoXChromosomes; value: 1\n",
      "Key: Menopause; value: 1\n",
      "Key: endometriosis; value: 1\n"
     ]
    }
   ],
   "source": [
    "for k, v in activity_weight.items():\n",
    "    print(f\"Key: {k}; value: {v}\")"
   ]
  },
  {
   "cell_type": "code",
   "execution_count": 41,
   "metadata": {},
   "outputs": [
    {
     "name": "stdout",
     "output_type": "stream",
     "text": [
      "Primary network without removing duplicates: 109\n",
      "Primary network after removing duplicates: 70\n"
     ]
    },
    {
     "data": {
      "text/html": [
       "<div>\n",
       "<style scoped>\n",
       "    .dataframe tbody tr th:only-of-type {\n",
       "        vertical-align: middle;\n",
       "    }\n",
       "\n",
       "    .dataframe tbody tr th {\n",
       "        vertical-align: top;\n",
       "    }\n",
       "\n",
       "    .dataframe thead th {\n",
       "        text-align: right;\n",
       "    }\n",
       "</style>\n",
       "<table border=\"1\" class=\"dataframe\">\n",
       "  <thead>\n",
       "    <tr style=\"text-align: right;\">\n",
       "      <th></th>\n",
       "      <th>source</th>\n",
       "      <th>target</th>\n",
       "      <th>weight</th>\n",
       "    </tr>\n",
       "  </thead>\n",
       "  <tbody>\n",
       "    <tr>\n",
       "      <th>0</th>\n",
       "      <td>FemaleDatingStrategy</td>\n",
       "      <td>Anemic</td>\n",
       "      <td>6</td>\n",
       "    </tr>\n",
       "    <tr>\n",
       "      <th>1</th>\n",
       "      <td>FemaleDatingStrategy</td>\n",
       "      <td>FemaleHairLoss</td>\n",
       "      <td>4</td>\n",
       "    </tr>\n",
       "    <tr>\n",
       "      <th>2</th>\n",
       "      <td>FemaleDatingStrategy</td>\n",
       "      <td>bettafish</td>\n",
       "      <td>4</td>\n",
       "    </tr>\n",
       "    <tr>\n",
       "      <th>3</th>\n",
       "      <td>FemaleDatingStrategy</td>\n",
       "      <td>puppy</td>\n",
       "      <td>4</td>\n",
       "    </tr>\n",
       "    <tr>\n",
       "      <th>4</th>\n",
       "      <td>FemaleDatingStrategy</td>\n",
       "      <td>CAKEWIN</td>\n",
       "      <td>4</td>\n",
       "    </tr>\n",
       "  </tbody>\n",
       "</table>\n",
       "</div>"
      ],
      "text/plain": [
       "                 source          target  weight\n",
       "0  FemaleDatingStrategy          Anemic       6\n",
       "1  FemaleDatingStrategy  FemaleHairLoss       4\n",
       "2  FemaleDatingStrategy       bettafish       4\n",
       "3  FemaleDatingStrategy           puppy       4\n",
       "4  FemaleDatingStrategy         CAKEWIN       4"
      ]
     },
     "metadata": {},
     "output_type": "display_data"
    },
    {
     "data": {
      "text/html": [
       "<div>\n",
       "<style scoped>\n",
       "    .dataframe tbody tr th:only-of-type {\n",
       "        vertical-align: middle;\n",
       "    }\n",
       "\n",
       "    .dataframe tbody tr th {\n",
       "        vertical-align: top;\n",
       "    }\n",
       "\n",
       "    .dataframe thead th {\n",
       "        text-align: right;\n",
       "    }\n",
       "</style>\n",
       "<table border=\"1\" class=\"dataframe\">\n",
       "  <thead>\n",
       "    <tr style=\"text-align: right;\">\n",
       "      <th></th>\n",
       "      <th>source</th>\n",
       "      <th>target</th>\n",
       "      <th>weight</th>\n",
       "    </tr>\n",
       "  </thead>\n",
       "  <tbody>\n",
       "    <tr>\n",
       "      <th>63</th>\n",
       "      <td>FemaleDatingStrategy</td>\n",
       "      <td>whenthe</td>\n",
       "      <td>1</td>\n",
       "    </tr>\n",
       "    <tr>\n",
       "      <th>64</th>\n",
       "      <td>FemaleDatingStrategy</td>\n",
       "      <td>happy</td>\n",
       "      <td>1</td>\n",
       "    </tr>\n",
       "    <tr>\n",
       "      <th>65</th>\n",
       "      <td>FemaleDatingStrategy</td>\n",
       "      <td>PetiteFitness</td>\n",
       "      <td>1</td>\n",
       "    </tr>\n",
       "    <tr>\n",
       "      <th>66</th>\n",
       "      <td>FemaleDatingStrategy</td>\n",
       "      <td>PlasticSurgery</td>\n",
       "      <td>4</td>\n",
       "    </tr>\n",
       "    <tr>\n",
       "      <th>67</th>\n",
       "      <td>FemaleDatingStrategy</td>\n",
       "      <td>TwoXChromosomes</td>\n",
       "      <td>1</td>\n",
       "    </tr>\n",
       "    <tr>\n",
       "      <th>68</th>\n",
       "      <td>FemaleDatingStrategy</td>\n",
       "      <td>Menopause</td>\n",
       "      <td>1</td>\n",
       "    </tr>\n",
       "    <tr>\n",
       "      <th>69</th>\n",
       "      <td>FemaleDatingStrategy</td>\n",
       "      <td>endometriosis</td>\n",
       "      <td>1</td>\n",
       "    </tr>\n",
       "  </tbody>\n",
       "</table>\n",
       "</div>"
      ],
      "text/plain": [
       "                  source           target  weight\n",
       "63  FemaleDatingStrategy          whenthe       1\n",
       "64  FemaleDatingStrategy            happy       1\n",
       "65  FemaleDatingStrategy    PetiteFitness       1\n",
       "66  FemaleDatingStrategy   PlasticSurgery       4\n",
       "67  FemaleDatingStrategy  TwoXChromosomes       1\n",
       "68  FemaleDatingStrategy        Menopause       1\n",
       "69  FemaleDatingStrategy    endometriosis       1"
      ]
     },
     "metadata": {},
     "output_type": "display_data"
    }
   ],
   "source": [
    "primary_network = [k for k, v in activity_weight.items()]\n",
    "primary_weight = [v for k, v in activity_weight.items()]\n",
    "\n",
    "print(f\"Primary network without removing duplicates: {len(p+c)}\")\n",
    "print(f\"Primary network after removing duplicates: {len(primary_network)}\")\n",
    "\n",
    "soi_list = [sub_of_interest for _ in range(len(primary_network))]\n",
    "data_dict = {\n",
    "    \"source\": soi_list, \n",
    "    \"target\": primary_network,\n",
    "    \"weight\": primary_weight\n",
    "}\n",
    "\n",
    "df = pd.DataFrame(\n",
    "    data = data_dict\n",
    ")\n",
    "\n",
    "display(df.head())\n",
    "display(df.tail(7))"
   ]
  },
  {
   "cell_type": "markdown",
   "metadata": {},
   "source": [
    "# Step 5: find the secondary list of users and their activity"
   ]
  },
  {
   "cell_type": "code",
   "execution_count": 4,
   "metadata": {},
   "outputs": [],
   "source": [
    "redditors_secondary = [get_users(subreddit, 1, 2) for subreddit in activity_to]\n",
    "\n"
   ]
  },
  {
   "cell_type": "code",
   "execution_count": 5,
   "metadata": {},
   "outputs": [
    {
     "ename": "KeyboardInterrupt",
     "evalue": "",
     "output_type": "error",
     "traceback": [
      "\u001b[1;31m---------------------------------------------------------------------------\u001b[0m",
      "\u001b[1;31mKeyboardInterrupt\u001b[0m                         Traceback (most recent call last)",
      "\u001b[1;32m<ipython-input-5-51e77271cf5c>\u001b[0m in \u001b[0;36m<module>\u001b[1;34m\u001b[0m\n\u001b[1;32m----> 1\u001b[1;33m \u001b[0msecondary_network\u001b[0m \u001b[1;33m=\u001b[0m \u001b[1;33m{\u001b[0m\u001b[0mactivity_to\u001b[0m\u001b[1;33m[\u001b[0m\u001b[0mi\u001b[0m\u001b[1;33m]\u001b[0m\u001b[1;33m:\u001b[0m \u001b[0mget_redditors_activity\u001b[0m\u001b[1;33m(\u001b[0m\u001b[0mredditors_secondary\u001b[0m\u001b[1;33m[\u001b[0m\u001b[1;36m0\u001b[0m\u001b[1;33m]\u001b[0m\u001b[1;33m,\u001b[0m \u001b[1;36m2\u001b[0m\u001b[1;33m,\u001b[0m \u001b[1;32mFalse\u001b[0m\u001b[1;33m)\u001b[0m \u001b[1;32mfor\u001b[0m \u001b[0mi\u001b[0m \u001b[1;32min\u001b[0m \u001b[0mrange\u001b[0m\u001b[1;33m(\u001b[0m\u001b[0mlen\u001b[0m\u001b[1;33m(\u001b[0m\u001b[0mredditors_secondary\u001b[0m\u001b[1;33m)\u001b[0m\u001b[1;33m)\u001b[0m\u001b[1;33m}\u001b[0m\u001b[1;33m\u001b[0m\u001b[1;33m\u001b[0m\u001b[0m\n\u001b[0m\u001b[0;32m      2\u001b[0m \u001b[1;33m\u001b[0m\u001b[0m\n\u001b[0;32m      3\u001b[0m \u001b[0mprint\u001b[0m\u001b[1;33m(\u001b[0m\u001b[0msecondary_network\u001b[0m\u001b[1;33m)\u001b[0m\u001b[1;33m\u001b[0m\u001b[1;33m\u001b[0m\u001b[0m\n",
      "\u001b[1;32m<ipython-input-5-51e77271cf5c>\u001b[0m in \u001b[0;36m<dictcomp>\u001b[1;34m(.0)\u001b[0m\n\u001b[1;32m----> 1\u001b[1;33m \u001b[0msecondary_network\u001b[0m \u001b[1;33m=\u001b[0m \u001b[1;33m{\u001b[0m\u001b[0mactivity_to\u001b[0m\u001b[1;33m[\u001b[0m\u001b[0mi\u001b[0m\u001b[1;33m]\u001b[0m\u001b[1;33m:\u001b[0m \u001b[0mget_redditors_activity\u001b[0m\u001b[1;33m(\u001b[0m\u001b[0mredditors_secondary\u001b[0m\u001b[1;33m[\u001b[0m\u001b[1;36m0\u001b[0m\u001b[1;33m]\u001b[0m\u001b[1;33m,\u001b[0m \u001b[1;36m2\u001b[0m\u001b[1;33m,\u001b[0m \u001b[1;32mFalse\u001b[0m\u001b[1;33m)\u001b[0m \u001b[1;32mfor\u001b[0m \u001b[0mi\u001b[0m \u001b[1;32min\u001b[0m \u001b[0mrange\u001b[0m\u001b[1;33m(\u001b[0m\u001b[0mlen\u001b[0m\u001b[1;33m(\u001b[0m\u001b[0mredditors_secondary\u001b[0m\u001b[1;33m)\u001b[0m\u001b[1;33m)\u001b[0m\u001b[1;33m}\u001b[0m\u001b[1;33m\u001b[0m\u001b[1;33m\u001b[0m\u001b[0m\n\u001b[0m\u001b[0;32m      2\u001b[0m \u001b[1;33m\u001b[0m\u001b[0m\n\u001b[0;32m      3\u001b[0m \u001b[0mprint\u001b[0m\u001b[1;33m(\u001b[0m\u001b[0msecondary_network\u001b[0m\u001b[1;33m)\u001b[0m\u001b[1;33m\u001b[0m\u001b[1;33m\u001b[0m\u001b[0m\n",
      "\u001b[1;32m<ipython-input-2-8c1064f325b9>\u001b[0m in \u001b[0;36mget_redditors_activity\u001b[1;34m(redditor_list, lim, filter_soi)\u001b[0m\n\u001b[0;32m     44\u001b[0m             \u001b[0mcomments\u001b[0m \u001b[1;33m=\u001b[0m \u001b[0mreddit\u001b[0m\u001b[1;33m.\u001b[0m\u001b[0mredditor\u001b[0m\u001b[1;33m(\u001b[0m\u001b[0mr\u001b[0m\u001b[1;33m)\u001b[0m\u001b[1;33m.\u001b[0m\u001b[0mcomments\u001b[0m\u001b[1;33m.\u001b[0m\u001b[0mnew\u001b[0m\u001b[1;33m(\u001b[0m\u001b[0mlimit\u001b[0m\u001b[1;33m=\u001b[0m\u001b[0mlim\u001b[0m\u001b[1;33m)\u001b[0m\u001b[1;33m\u001b[0m\u001b[1;33m\u001b[0m\u001b[0m\n\u001b[0;32m     45\u001b[0m \u001b[1;33m\u001b[0m\u001b[0m\n\u001b[1;32m---> 46\u001b[1;33m             \u001b[1;32mfor\u001b[0m \u001b[0msubmission\u001b[0m\u001b[1;33m,\u001b[0m \u001b[0mcomment\u001b[0m \u001b[1;32min\u001b[0m \u001b[0mzip\u001b[0m\u001b[1;33m(\u001b[0m\u001b[0mposts\u001b[0m\u001b[1;33m,\u001b[0m \u001b[0mcomments\u001b[0m\u001b[1;33m)\u001b[0m\u001b[1;33m:\u001b[0m\u001b[1;33m\u001b[0m\u001b[1;33m\u001b[0m\u001b[0m\n\u001b[0m\u001b[0;32m     47\u001b[0m                 \u001b[1;32mif\u001b[0m \u001b[0msubmission\u001b[0m\u001b[1;33m.\u001b[0m\u001b[0msubreddit\u001b[0m\u001b[1;33m.\u001b[0m\u001b[0mdisplay_name\u001b[0m \u001b[1;33m!=\u001b[0m \u001b[0msub_of_interest\u001b[0m \u001b[1;32mand\u001b[0m \u001b[0mfilter_soi\u001b[0m\u001b[1;33m:\u001b[0m\u001b[1;33m\u001b[0m\u001b[1;33m\u001b[0m\u001b[0m\n\u001b[0;32m     48\u001b[0m                     \u001b[0mactivity_subreddits\u001b[0m\u001b[1;33m.\u001b[0m\u001b[0mappend\u001b[0m\u001b[1;33m(\u001b[0m\u001b[0msubmission\u001b[0m\u001b[1;33m.\u001b[0m\u001b[0msubreddit\u001b[0m\u001b[1;33m.\u001b[0m\u001b[0mdisplay_name\u001b[0m\u001b[1;33m)\u001b[0m\u001b[1;33m\u001b[0m\u001b[1;33m\u001b[0m\u001b[0m\n",
      "\u001b[1;32m~\\anaconda3\\lib\\site-packages\\praw\\models\\listing\\generator.py\u001b[0m in \u001b[0;36m__next__\u001b[1;34m(self)\u001b[0m\n\u001b[0;32m     61\u001b[0m \u001b[1;33m\u001b[0m\u001b[0m\n\u001b[0;32m     62\u001b[0m         \u001b[1;32mif\u001b[0m \u001b[0mself\u001b[0m\u001b[1;33m.\u001b[0m\u001b[0m_listing\u001b[0m \u001b[1;32mis\u001b[0m \u001b[1;32mNone\u001b[0m \u001b[1;32mor\u001b[0m \u001b[0mself\u001b[0m\u001b[1;33m.\u001b[0m\u001b[0m_list_index\u001b[0m \u001b[1;33m>=\u001b[0m \u001b[0mlen\u001b[0m\u001b[1;33m(\u001b[0m\u001b[0mself\u001b[0m\u001b[1;33m.\u001b[0m\u001b[0m_listing\u001b[0m\u001b[1;33m)\u001b[0m\u001b[1;33m:\u001b[0m\u001b[1;33m\u001b[0m\u001b[1;33m\u001b[0m\u001b[0m\n\u001b[1;32m---> 63\u001b[1;33m             \u001b[0mself\u001b[0m\u001b[1;33m.\u001b[0m\u001b[0m_next_batch\u001b[0m\u001b[1;33m(\u001b[0m\u001b[1;33m)\u001b[0m\u001b[1;33m\u001b[0m\u001b[1;33m\u001b[0m\u001b[0m\n\u001b[0m\u001b[0;32m     64\u001b[0m \u001b[1;33m\u001b[0m\u001b[0m\n\u001b[0;32m     65\u001b[0m         \u001b[0mself\u001b[0m\u001b[1;33m.\u001b[0m\u001b[0m_list_index\u001b[0m \u001b[1;33m+=\u001b[0m \u001b[1;36m1\u001b[0m\u001b[1;33m\u001b[0m\u001b[1;33m\u001b[0m\u001b[0m\n",
      "\u001b[1;32m~\\anaconda3\\lib\\site-packages\\praw\\models\\listing\\generator.py\u001b[0m in \u001b[0;36m_next_batch\u001b[1;34m(self)\u001b[0m\n\u001b[0;32m     71\u001b[0m             \u001b[1;32mraise\u001b[0m \u001b[0mStopIteration\u001b[0m\u001b[1;33m(\u001b[0m\u001b[1;33m)\u001b[0m\u001b[1;33m\u001b[0m\u001b[1;33m\u001b[0m\u001b[0m\n\u001b[0;32m     72\u001b[0m \u001b[1;33m\u001b[0m\u001b[0m\n\u001b[1;32m---> 73\u001b[1;33m         \u001b[0mself\u001b[0m\u001b[1;33m.\u001b[0m\u001b[0m_listing\u001b[0m \u001b[1;33m=\u001b[0m \u001b[0mself\u001b[0m\u001b[1;33m.\u001b[0m\u001b[0m_reddit\u001b[0m\u001b[1;33m.\u001b[0m\u001b[0mget\u001b[0m\u001b[1;33m(\u001b[0m\u001b[0mself\u001b[0m\u001b[1;33m.\u001b[0m\u001b[0murl\u001b[0m\u001b[1;33m,\u001b[0m \u001b[0mparams\u001b[0m\u001b[1;33m=\u001b[0m\u001b[0mself\u001b[0m\u001b[1;33m.\u001b[0m\u001b[0mparams\u001b[0m\u001b[1;33m)\u001b[0m\u001b[1;33m\u001b[0m\u001b[1;33m\u001b[0m\u001b[0m\n\u001b[0m\u001b[0;32m     74\u001b[0m         \u001b[1;32mif\u001b[0m \u001b[0misinstance\u001b[0m\u001b[1;33m(\u001b[0m\u001b[0mself\u001b[0m\u001b[1;33m.\u001b[0m\u001b[0m_listing\u001b[0m\u001b[1;33m,\u001b[0m \u001b[0mlist\u001b[0m\u001b[1;33m)\u001b[0m\u001b[1;33m:\u001b[0m\u001b[1;33m\u001b[0m\u001b[1;33m\u001b[0m\u001b[0m\n\u001b[0;32m     75\u001b[0m             \u001b[0mself\u001b[0m\u001b[1;33m.\u001b[0m\u001b[0m_listing\u001b[0m \u001b[1;33m=\u001b[0m \u001b[0mself\u001b[0m\u001b[1;33m.\u001b[0m\u001b[0m_listing\u001b[0m\u001b[1;33m[\u001b[0m\u001b[1;36m1\u001b[0m\u001b[1;33m]\u001b[0m  \u001b[1;31m# for submission duplicates\u001b[0m\u001b[1;33m\u001b[0m\u001b[1;33m\u001b[0m\u001b[0m\n",
      "\u001b[1;32m~\\anaconda3\\lib\\site-packages\\praw\\reddit.py\u001b[0m in \u001b[0;36mget\u001b[1;34m(self, path, params)\u001b[0m\n\u001b[0;32m    571\u001b[0m \u001b[1;33m\u001b[0m\u001b[0m\n\u001b[0;32m    572\u001b[0m         \"\"\"\n\u001b[1;32m--> 573\u001b[1;33m         \u001b[1;32mreturn\u001b[0m \u001b[0mself\u001b[0m\u001b[1;33m.\u001b[0m\u001b[0m_objectify_request\u001b[0m\u001b[1;33m(\u001b[0m\u001b[0mmethod\u001b[0m\u001b[1;33m=\u001b[0m\u001b[1;34m\"GET\"\u001b[0m\u001b[1;33m,\u001b[0m \u001b[0mparams\u001b[0m\u001b[1;33m=\u001b[0m\u001b[0mparams\u001b[0m\u001b[1;33m,\u001b[0m \u001b[0mpath\u001b[0m\u001b[1;33m=\u001b[0m\u001b[0mpath\u001b[0m\u001b[1;33m)\u001b[0m\u001b[1;33m\u001b[0m\u001b[1;33m\u001b[0m\u001b[0m\n\u001b[0m\u001b[0;32m    574\u001b[0m \u001b[1;33m\u001b[0m\u001b[0m\n\u001b[0;32m    575\u001b[0m     def info(\n",
      "\u001b[1;32m~\\anaconda3\\lib\\site-packages\\praw\\reddit.py\u001b[0m in \u001b[0;36m_objectify_request\u001b[1;34m(self, data, files, json, method, params, path)\u001b[0m\n\u001b[0;32m    672\u001b[0m         \"\"\"\n\u001b[0;32m    673\u001b[0m         return self._objector.objectify(\n\u001b[1;32m--> 674\u001b[1;33m             self.request(\n\u001b[0m\u001b[0;32m    675\u001b[0m                 \u001b[0mdata\u001b[0m\u001b[1;33m=\u001b[0m\u001b[0mdata\u001b[0m\u001b[1;33m,\u001b[0m\u001b[1;33m\u001b[0m\u001b[1;33m\u001b[0m\u001b[0m\n\u001b[0;32m    676\u001b[0m                 \u001b[0mfiles\u001b[0m\u001b[1;33m=\u001b[0m\u001b[0mfiles\u001b[0m\u001b[1;33m,\u001b[0m\u001b[1;33m\u001b[0m\u001b[1;33m\u001b[0m\u001b[0m\n",
      "\u001b[1;32m~\\anaconda3\\lib\\site-packages\\praw\\reddit.py\u001b[0m in \u001b[0;36mrequest\u001b[1;34m(self, method, path, params, data, files, json)\u001b[0m\n\u001b[0;32m    854\u001b[0m             \u001b[1;32mraise\u001b[0m \u001b[0mClientException\u001b[0m\u001b[1;33m(\u001b[0m\u001b[1;34m\"At most one of `data` and `json` is supported.\"\u001b[0m\u001b[1;33m)\u001b[0m\u001b[1;33m\u001b[0m\u001b[1;33m\u001b[0m\u001b[0m\n\u001b[0;32m    855\u001b[0m         \u001b[1;32mtry\u001b[0m\u001b[1;33m:\u001b[0m\u001b[1;33m\u001b[0m\u001b[1;33m\u001b[0m\u001b[0m\n\u001b[1;32m--> 856\u001b[1;33m             return self._core.request(\n\u001b[0m\u001b[0;32m    857\u001b[0m                 \u001b[0mmethod\u001b[0m\u001b[1;33m,\u001b[0m\u001b[1;33m\u001b[0m\u001b[1;33m\u001b[0m\u001b[0m\n\u001b[0;32m    858\u001b[0m                 \u001b[0mpath\u001b[0m\u001b[1;33m,\u001b[0m\u001b[1;33m\u001b[0m\u001b[1;33m\u001b[0m\u001b[0m\n",
      "\u001b[1;32m~\\anaconda3\\lib\\site-packages\\prawcore\\sessions.py\u001b[0m in \u001b[0;36mrequest\u001b[1;34m(self, method, path, data, files, json, params, timeout)\u001b[0m\n\u001b[0;32m    328\u001b[0m             \u001b[0mjson\u001b[0m\u001b[1;33m[\u001b[0m\u001b[1;34m\"api_type\"\u001b[0m\u001b[1;33m]\u001b[0m \u001b[1;33m=\u001b[0m \u001b[1;34m\"json\"\u001b[0m\u001b[1;33m\u001b[0m\u001b[1;33m\u001b[0m\u001b[0m\n\u001b[0;32m    329\u001b[0m         \u001b[0murl\u001b[0m \u001b[1;33m=\u001b[0m \u001b[0murljoin\u001b[0m\u001b[1;33m(\u001b[0m\u001b[0mself\u001b[0m\u001b[1;33m.\u001b[0m\u001b[0m_requestor\u001b[0m\u001b[1;33m.\u001b[0m\u001b[0moauth_url\u001b[0m\u001b[1;33m,\u001b[0m \u001b[0mpath\u001b[0m\u001b[1;33m)\u001b[0m\u001b[1;33m\u001b[0m\u001b[1;33m\u001b[0m\u001b[0m\n\u001b[1;32m--> 330\u001b[1;33m         return self._request_with_retries(\n\u001b[0m\u001b[0;32m    331\u001b[0m             \u001b[0mdata\u001b[0m\u001b[1;33m=\u001b[0m\u001b[0mdata\u001b[0m\u001b[1;33m,\u001b[0m\u001b[1;33m\u001b[0m\u001b[1;33m\u001b[0m\u001b[0m\n\u001b[0;32m    332\u001b[0m             \u001b[0mfiles\u001b[0m\u001b[1;33m=\u001b[0m\u001b[0mfiles\u001b[0m\u001b[1;33m,\u001b[0m\u001b[1;33m\u001b[0m\u001b[1;33m\u001b[0m\u001b[0m\n",
      "\u001b[1;32m~\\anaconda3\\lib\\site-packages\\prawcore\\sessions.py\u001b[0m in \u001b[0;36m_request_with_retries\u001b[1;34m(self, data, files, json, method, params, timeout, url, retry_strategy_state)\u001b[0m\n\u001b[0;32m    226\u001b[0m         \u001b[0mretry_strategy_state\u001b[0m\u001b[1;33m.\u001b[0m\u001b[0msleep\u001b[0m\u001b[1;33m(\u001b[0m\u001b[1;33m)\u001b[0m\u001b[1;33m\u001b[0m\u001b[1;33m\u001b[0m\u001b[0m\n\u001b[0;32m    227\u001b[0m         \u001b[0mself\u001b[0m\u001b[1;33m.\u001b[0m\u001b[0m_log_request\u001b[0m\u001b[1;33m(\u001b[0m\u001b[0mdata\u001b[0m\u001b[1;33m,\u001b[0m \u001b[0mmethod\u001b[0m\u001b[1;33m,\u001b[0m \u001b[0mparams\u001b[0m\u001b[1;33m,\u001b[0m \u001b[0murl\u001b[0m\u001b[1;33m)\u001b[0m\u001b[1;33m\u001b[0m\u001b[1;33m\u001b[0m\u001b[0m\n\u001b[1;32m--> 228\u001b[1;33m         response, saved_exception = self._make_request(\n\u001b[0m\u001b[0;32m    229\u001b[0m             \u001b[0mdata\u001b[0m\u001b[1;33m,\u001b[0m\u001b[1;33m\u001b[0m\u001b[1;33m\u001b[0m\u001b[0m\n\u001b[0;32m    230\u001b[0m             \u001b[0mfiles\u001b[0m\u001b[1;33m,\u001b[0m\u001b[1;33m\u001b[0m\u001b[1;33m\u001b[0m\u001b[0m\n",
      "\u001b[1;32m~\\anaconda3\\lib\\site-packages\\prawcore\\sessions.py\u001b[0m in \u001b[0;36m_make_request\u001b[1;34m(self, data, files, json, method, params, retry_strategy_state, timeout, url)\u001b[0m\n\u001b[0;32m    183\u001b[0m     ):\n\u001b[0;32m    184\u001b[0m         \u001b[1;32mtry\u001b[0m\u001b[1;33m:\u001b[0m\u001b[1;33m\u001b[0m\u001b[1;33m\u001b[0m\u001b[0m\n\u001b[1;32m--> 185\u001b[1;33m             response = self._rate_limiter.call(\n\u001b[0m\u001b[0;32m    186\u001b[0m                 \u001b[0mself\u001b[0m\u001b[1;33m.\u001b[0m\u001b[0m_requestor\u001b[0m\u001b[1;33m.\u001b[0m\u001b[0mrequest\u001b[0m\u001b[1;33m,\u001b[0m\u001b[1;33m\u001b[0m\u001b[1;33m\u001b[0m\u001b[0m\n\u001b[0;32m    187\u001b[0m                 \u001b[0mself\u001b[0m\u001b[1;33m.\u001b[0m\u001b[0m_set_header_callback\u001b[0m\u001b[1;33m,\u001b[0m\u001b[1;33m\u001b[0m\u001b[1;33m\u001b[0m\u001b[0m\n",
      "\u001b[1;32m~\\anaconda3\\lib\\site-packages\\prawcore\\rate_limit.py\u001b[0m in \u001b[0;36mcall\u001b[1;34m(self, request_function, set_header_callback, *args, **kwargs)\u001b[0m\n\u001b[0;32m     30\u001b[0m \u001b[1;33m\u001b[0m\u001b[0m\n\u001b[0;32m     31\u001b[0m         \"\"\"\n\u001b[1;32m---> 32\u001b[1;33m         \u001b[0mself\u001b[0m\u001b[1;33m.\u001b[0m\u001b[0mdelay\u001b[0m\u001b[1;33m(\u001b[0m\u001b[1;33m)\u001b[0m\u001b[1;33m\u001b[0m\u001b[1;33m\u001b[0m\u001b[0m\n\u001b[0m\u001b[0;32m     33\u001b[0m         \u001b[0mkwargs\u001b[0m\u001b[1;33m[\u001b[0m\u001b[1;34m\"headers\"\u001b[0m\u001b[1;33m]\u001b[0m \u001b[1;33m=\u001b[0m \u001b[0mset_header_callback\u001b[0m\u001b[1;33m(\u001b[0m\u001b[1;33m)\u001b[0m\u001b[1;33m\u001b[0m\u001b[1;33m\u001b[0m\u001b[0m\n\u001b[0;32m     34\u001b[0m         \u001b[0mresponse\u001b[0m \u001b[1;33m=\u001b[0m \u001b[0mrequest_function\u001b[0m\u001b[1;33m(\u001b[0m\u001b[1;33m*\u001b[0m\u001b[0margs\u001b[0m\u001b[1;33m,\u001b[0m \u001b[1;33m**\u001b[0m\u001b[0mkwargs\u001b[0m\u001b[1;33m)\u001b[0m\u001b[1;33m\u001b[0m\u001b[1;33m\u001b[0m\u001b[0m\n",
      "\u001b[1;32m~\\anaconda3\\lib\\site-packages\\prawcore\\rate_limit.py\u001b[0m in \u001b[0;36mdelay\u001b[1;34m(self)\u001b[0m\n\u001b[0;32m     45\u001b[0m         \u001b[0mmessage\u001b[0m \u001b[1;33m=\u001b[0m \u001b[1;34mf\"Sleeping: {sleep_seconds:0.2f} seconds prior to call\"\u001b[0m\u001b[1;33m\u001b[0m\u001b[1;33m\u001b[0m\u001b[0m\n\u001b[0;32m     46\u001b[0m         \u001b[0mlog\u001b[0m\u001b[1;33m.\u001b[0m\u001b[0mdebug\u001b[0m\u001b[1;33m(\u001b[0m\u001b[0mmessage\u001b[0m\u001b[1;33m)\u001b[0m\u001b[1;33m\u001b[0m\u001b[1;33m\u001b[0m\u001b[0m\n\u001b[1;32m---> 47\u001b[1;33m         \u001b[0mtime\u001b[0m\u001b[1;33m.\u001b[0m\u001b[0msleep\u001b[0m\u001b[1;33m(\u001b[0m\u001b[0msleep_seconds\u001b[0m\u001b[1;33m)\u001b[0m\u001b[1;33m\u001b[0m\u001b[1;33m\u001b[0m\u001b[0m\n\u001b[0m\u001b[0;32m     48\u001b[0m \u001b[1;33m\u001b[0m\u001b[0m\n\u001b[0;32m     49\u001b[0m     \u001b[1;32mdef\u001b[0m \u001b[0mupdate\u001b[0m\u001b[1;33m(\u001b[0m\u001b[0mself\u001b[0m\u001b[1;33m,\u001b[0m \u001b[0mresponse_headers\u001b[0m\u001b[1;33m)\u001b[0m\u001b[1;33m:\u001b[0m\u001b[1;33m\u001b[0m\u001b[1;33m\u001b[0m\u001b[0m\n",
      "\u001b[1;31mKeyboardInterrupt\u001b[0m: "
     ]
    }
   ],
   "source": [
    "secondary_network = {activity_to[i]: get_redditors_activity(redditors_secondary[0], 2, False) for i in range(len(redditors_secondary))}\n",
    "\n",
    "print(secondary_network)"
   ]
  },
  {
   "cell_type": "code",
   "execution_count": null,
   "metadata": {},
   "outputs": [],
   "source": [
    "for i in range(len(redditors_secondary)):\n",
    "    print(get_redditors_activity(redditors_secondary[i], 2))"
   ]
  },
  {
   "cell_type": "markdown",
   "metadata": {},
   "source": [
    "# Step 6: create dataframe"
   ]
  },
  {
   "cell_type": "code",
   "execution_count": 36,
   "metadata": {},
   "outputs": [],
   "source": [
    "def find_edges(subreddit_from, subreddit_to):\n",
    "    \"\"\"\n",
    "    Find the link/edge from a subreddit, to a subreddit.\n",
    "    :param subreddit_from: Subreddit from\n",
    "    :param subreddit_to: Subreddit to\n",
    "    \"\"\"\n",
    "    #####################\n",
    "    # Since edges between subreddits are defined as activities of users across the subs,\n",
    "    # and the activity is already defined as posts and comments,\n",
    "    # the lists of users of each subreddit is cross-referenced.\n",
    "    #####################\n",
    "    \n",
    "    # === First, get the list of users from each subreddits ===\n",
    "    redditors_secondary = [get_users(subreddit, 1, 2) for subreddit in p]\n",
    "    \n",
    "    for i in range(len(redditors_secondary)):\n",
    "        get_redditors_activity(redditors_secondary[i], 2)"
   ]
  },
  {
   "cell_type": "code",
   "execution_count": 41,
   "metadata": {},
   "outputs": [
    {
     "name": "stdout",
     "output_type": "stream",
     "text": [
      "[]\n",
      "[]\n",
      "[]\n",
      "[]\n",
      "[]\n"
     ]
    },
    {
     "ename": "AttributeError",
     "evalue": "'NoneType' object has no attribute 'name'",
     "output_type": "error",
     "traceback": [
      "\u001b[1;31m---------------------------------------------------------------------------\u001b[0m",
      "\u001b[1;31mAttributeError\u001b[0m                            Traceback (most recent call last)",
      "\u001b[1;32m<ipython-input-41-073b4a3835bc>\u001b[0m in \u001b[0;36m<module>\u001b[1;34m\u001b[0m\n\u001b[0;32m      1\u001b[0m \u001b[1;31m# === Cross-reference each subreddit from the \"p\" list ===\u001b[0m\u001b[1;33m\u001b[0m\u001b[1;33m\u001b[0m\u001b[1;33m\u001b[0m\u001b[0m\n\u001b[0;32m      2\u001b[0m \u001b[1;32mfor\u001b[0m \u001b[0mk\u001b[0m\u001b[1;33m,\u001b[0m \u001b[0mv\u001b[0m \u001b[1;32min\u001b[0m \u001b[0menumerate\u001b[0m\u001b[1;33m(\u001b[0m\u001b[0mp\u001b[0m\u001b[1;33m)\u001b[0m\u001b[1;33m:\u001b[0m\u001b[1;33m\u001b[0m\u001b[1;33m\u001b[0m\u001b[0m\n\u001b[1;32m----> 3\u001b[1;33m     \u001b[0mprint\u001b[0m\u001b[1;33m(\u001b[0m\u001b[0mfind_edges\u001b[0m\u001b[1;33m(\u001b[0m\u001b[0mp\u001b[0m\u001b[1;33m[\u001b[0m\u001b[0mk\u001b[0m\u001b[1;33m]\u001b[0m\u001b[1;33m,\u001b[0m \u001b[0mp\u001b[0m\u001b[1;33m[\u001b[0m\u001b[0mk\u001b[0m\u001b[1;33m+\u001b[0m\u001b[1;36m1\u001b[0m\u001b[1;33m]\u001b[0m\u001b[1;33m)\u001b[0m\u001b[1;33m)\u001b[0m\u001b[1;33m\u001b[0m\u001b[1;33m\u001b[0m\u001b[0m\n\u001b[0m",
      "\u001b[1;32m<ipython-input-36-bedf9dfb759e>\u001b[0m in \u001b[0;36mfind_edges\u001b[1;34m(subreddit_from, subreddit_to)\u001b[0m\n\u001b[0;32m     13\u001b[0m     \u001b[1;31m# === First, get the list of users from each subreddits ===\u001b[0m\u001b[1;33m\u001b[0m\u001b[1;33m\u001b[0m\u001b[1;33m\u001b[0m\u001b[0m\n\u001b[0;32m     14\u001b[0m     \u001b[0mfrom_redditors\u001b[0m \u001b[1;33m=\u001b[0m \u001b[0mget_users\u001b[0m\u001b[1;33m(\u001b[0m\u001b[0msubreddit_from\u001b[0m\u001b[1;33m,\u001b[0m \u001b[1;36m6\u001b[0m\u001b[1;33m,\u001b[0m \u001b[1;36m6\u001b[0m\u001b[1;33m)\u001b[0m\u001b[1;33m\u001b[0m\u001b[1;33m\u001b[0m\u001b[0m\n\u001b[1;32m---> 15\u001b[1;33m     \u001b[0mto_redditors\u001b[0m \u001b[1;33m=\u001b[0m \u001b[0mget_users\u001b[0m\u001b[1;33m(\u001b[0m\u001b[0msubreddit_to\u001b[0m\u001b[1;33m,\u001b[0m \u001b[1;36m6\u001b[0m\u001b[1;33m,\u001b[0m \u001b[1;36m6\u001b[0m\u001b[1;33m)\u001b[0m\u001b[1;33m\u001b[0m\u001b[1;33m\u001b[0m\u001b[0m\n\u001b[0m\u001b[0;32m     16\u001b[0m \u001b[1;33m\u001b[0m\u001b[0m\n\u001b[0;32m     17\u001b[0m     \u001b[0medges\u001b[0m \u001b[1;33m=\u001b[0m \u001b[1;33m[\u001b[0m\u001b[1;36m1\u001b[0m \u001b[1;32mfor\u001b[0m \u001b[0mi\u001b[0m \u001b[1;32min\u001b[0m \u001b[0mfrom_redditors\u001b[0m \u001b[1;32mif\u001b[0m \u001b[0mi\u001b[0m \u001b[1;32min\u001b[0m \u001b[0mto_redditors\u001b[0m\u001b[1;33m]\u001b[0m\u001b[1;33m\u001b[0m\u001b[1;33m\u001b[0m\u001b[0m\n",
      "\u001b[1;32m<ipython-input-35-e29e4142dc5b>\u001b[0m in \u001b[0;36mget_users\u001b[1;34m(sub, post_count, comment_count)\u001b[0m\n\u001b[0;32m     15\u001b[0m \u001b[1;33m\u001b[0m\u001b[0m\n\u001b[0;32m     16\u001b[0m     \u001b[1;31m# --- Same with commentors ---\u001b[0m\u001b[1;33m\u001b[0m\u001b[1;33m\u001b[0m\u001b[1;33m\u001b[0m\u001b[0m\n\u001b[1;32m---> 17\u001b[1;33m     commenters = [\n\u001b[0m\u001b[0;32m     18\u001b[0m         \u001b[0mc\u001b[0m\u001b[1;33m.\u001b[0m\u001b[0mauthor\u001b[0m\u001b[1;33m.\u001b[0m\u001b[0mname\u001b[0m\u001b[1;33m\u001b[0m\u001b[1;33m\u001b[0m\u001b[0m\n\u001b[0;32m     19\u001b[0m         \u001b[1;32mfor\u001b[0m \u001b[0mc\u001b[0m \u001b[1;32min\u001b[0m \u001b[0mreddit\u001b[0m\u001b[1;33m.\u001b[0m\u001b[0msubreddit\u001b[0m\u001b[1;33m(\u001b[0m\u001b[0msub\u001b[0m\u001b[1;33m)\u001b[0m\u001b[1;33m.\u001b[0m\u001b[0mcomments\u001b[0m\u001b[1;33m(\u001b[0m\u001b[0mlimit\u001b[0m\u001b[1;33m=\u001b[0m\u001b[0mcomment_count\u001b[0m\u001b[1;33m)\u001b[0m\u001b[1;33m\u001b[0m\u001b[1;33m\u001b[0m\u001b[0m\n",
      "\u001b[1;32m<ipython-input-35-e29e4142dc5b>\u001b[0m in \u001b[0;36m<listcomp>\u001b[1;34m(.0)\u001b[0m\n\u001b[0;32m     18\u001b[0m         \u001b[0mc\u001b[0m\u001b[1;33m.\u001b[0m\u001b[0mauthor\u001b[0m\u001b[1;33m.\u001b[0m\u001b[0mname\u001b[0m\u001b[1;33m\u001b[0m\u001b[1;33m\u001b[0m\u001b[0m\n\u001b[0;32m     19\u001b[0m         \u001b[1;32mfor\u001b[0m \u001b[0mc\u001b[0m \u001b[1;32min\u001b[0m \u001b[0mreddit\u001b[0m\u001b[1;33m.\u001b[0m\u001b[0msubreddit\u001b[0m\u001b[1;33m(\u001b[0m\u001b[0msub\u001b[0m\u001b[1;33m)\u001b[0m\u001b[1;33m.\u001b[0m\u001b[0mcomments\u001b[0m\u001b[1;33m(\u001b[0m\u001b[0mlimit\u001b[0m\u001b[1;33m=\u001b[0m\u001b[0mcomment_count\u001b[0m\u001b[1;33m)\u001b[0m\u001b[1;33m\u001b[0m\u001b[1;33m\u001b[0m\u001b[0m\n\u001b[1;32m---> 20\u001b[1;33m         \u001b[1;32mif\u001b[0m \u001b[0mc\u001b[0m\u001b[1;33m.\u001b[0m\u001b[0mauthor\u001b[0m\u001b[1;33m.\u001b[0m\u001b[0mname\u001b[0m \u001b[1;33m!=\u001b[0m \u001b[1;34m\"AutoModerator\"\u001b[0m\u001b[1;33m\u001b[0m\u001b[1;33m\u001b[0m\u001b[0m\n\u001b[0m\u001b[0;32m     21\u001b[0m     ]\n\u001b[0;32m     22\u001b[0m \u001b[1;33m\u001b[0m\u001b[0m\n",
      "\u001b[1;31mAttributeError\u001b[0m: 'NoneType' object has no attribute 'name'"
     ]
    }
   ],
   "source": [
    "# === Cross-reference each subreddit from the \"p\" list ===\n",
    "for k, v in enumerate(p):\n",
    "    print(find_edges(p[k], p[k+1]))"
   ]
  },
  {
   "cell_type": "code",
   "execution_count": 9,
   "metadata": {},
   "outputs": [
    {
     "name": "stdout",
     "output_type": "stream",
     "text": [
      "Vmchik\n",
      "=========================\n",
      "BasieSkanks\n",
      "=========================\n",
      "GabbaG0ul\n",
      "=========================\n",
      "BasieSkanks\n",
      "~~~~~~~~~~~~~~~~~~~~~~~~~\n",
      "Eqvvi\n",
      "~~~~~~~~~~~~~~~~~~~~~~~~~\n",
      "I_know_right_AS_IF\n",
      "~~~~~~~~~~~~~~~~~~~~~~~~~\n"
     ]
    },
    {
     "ename": "NameError",
     "evalue": "name 'commentors' is not defined",
     "output_type": "error",
     "traceback": [
      "\u001b[1;31m---------------------------------------------------------------------------\u001b[0m",
      "\u001b[1;31mNameError\u001b[0m                                 Traceback (most recent call last)",
      "\u001b[1;32m<ipython-input-9-17d6fad05652>\u001b[0m in \u001b[0;36m<module>\u001b[1;34m\u001b[0m\n\u001b[0;32m      1\u001b[0m \u001b[0mdf_counts_p\u001b[0m \u001b[1;33m=\u001b[0m \u001b[0mget_post_activity\u001b[0m\u001b[1;33m(\u001b[0m\u001b[0msub_of_interest\u001b[0m\u001b[1;33m,\u001b[0m \u001b[0muser_lim\u001b[0m\u001b[1;33m=\u001b[0m\u001b[1;36m3\u001b[0m\u001b[1;33m,\u001b[0m \u001b[0mlimit\u001b[0m\u001b[1;33m=\u001b[0m\u001b[1;36m8\u001b[0m\u001b[1;33m)\u001b[0m\u001b[1;33m\u001b[0m\u001b[1;33m\u001b[0m\u001b[0m\n\u001b[1;32m----> 2\u001b[1;33m \u001b[0mdf_counts_c\u001b[0m \u001b[1;33m=\u001b[0m \u001b[0mget_comm_activity\u001b[0m\u001b[1;33m(\u001b[0m\u001b[0msub_of_interest\u001b[0m\u001b[1;33m,\u001b[0m \u001b[0muser_lim\u001b[0m\u001b[1;33m=\u001b[0m\u001b[1;36m3\u001b[0m\u001b[1;33m,\u001b[0m \u001b[0mlimit\u001b[0m\u001b[1;33m=\u001b[0m\u001b[1;36m15\u001b[0m\u001b[1;33m)\u001b[0m\u001b[1;33m\u001b[0m\u001b[1;33m\u001b[0m\u001b[0m\n\u001b[0m\u001b[0;32m      3\u001b[0m \u001b[1;33m\u001b[0m\u001b[0m\n\u001b[0;32m      4\u001b[0m \u001b[1;31m# --- Merge the count dataframes together to aid in summing the submissions and comments activity, to be used\u001b[0m\u001b[1;33m\u001b[0m\u001b[1;33m\u001b[0m\u001b[1;33m\u001b[0m\u001b[0m\n\u001b[0;32m      5\u001b[0m \u001b[1;31m# for network mapping ---\u001b[0m\u001b[1;33m\u001b[0m\u001b[1;33m\u001b[0m\u001b[1;33m\u001b[0m\u001b[0m\n",
      "\u001b[1;32m<ipython-input-8-ce41a3e2127c>\u001b[0m in \u001b[0;36mget_comm_activity\u001b[1;34m(subreddit, user_lim, limit)\u001b[0m\n\u001b[0;32m    123\u001b[0m     \u001b[1;31m# === Arrange in dictionary ===\u001b[0m\u001b[1;33m\u001b[0m\u001b[1;33m\u001b[0m\u001b[1;33m\u001b[0m\u001b[0m\n\u001b[0;32m    124\u001b[0m     output_dict = {\n\u001b[1;32m--> 125\u001b[1;33m         \u001b[1;34m\"commentor\"\u001b[0m\u001b[1;33m:\u001b[0m \u001b[0mcommentors\u001b[0m\u001b[1;33m,\u001b[0m\u001b[1;33m\u001b[0m\u001b[1;33m\u001b[0m\u001b[0m\n\u001b[0m\u001b[0;32m    126\u001b[0m         \u001b[1;34m\"subs_commented\"\u001b[0m\u001b[1;33m:\u001b[0m \u001b[0msubreddit_commented\u001b[0m\u001b[1;33m\u001b[0m\u001b[1;33m\u001b[0m\u001b[0m\n\u001b[0;32m    127\u001b[0m     }\n",
      "\u001b[1;31mNameError\u001b[0m: name 'commentors' is not defined"
     ]
    }
   ],
   "source": [
    "df_counts_p = get_post_activity(sub_of_interest, user_lim=3, limit=8)\n",
    "df_counts_c = get_comm_activity(sub_of_interest, user_lim=3, limit=15)\n",
    "\n",
    "# --- Merge the count dataframes together to aid in summing the submissions and comments activity, to be used\n",
    "# for network mapping ---\n",
    "df_nx = df_counts_p.merge(\n",
    "    df_counts_c,\n",
    "    how='outer',\n",
    "    on='target',\n",
    "    suffixes=('_p', '_c')\n",
    ").fillna(0)\n",
    "\n",
    "df_nx['weight_total'] = df_nx['weight_p'] + df_nx['weight_c']\n",
    "df_nx['source'] = [sub_of_interest for i in range(len(df_nx))]\n",
    "\n",
    "# -- Drop unnecessary columns --\n",
    "df_nx.drop(['weight_p', 'weight_c'], axis=1, inplace=True)\n",
    "df_nx.sort_values(by='weight_total', inplace=True, ascending=False)\n",
    "\n",
    "# Examine the dataframe\n",
    "print('----- Map data ----- \\n', df_nx, '\\n')"
   ]
  },
  {
   "cell_type": "code",
   "execution_count": 6,
   "metadata": {},
   "outputs": [
    {
     "name": "stdout",
     "output_type": "stream",
     "text": [
      "[('FemaleDatingStrategy', 'FemaleLevelUpStrategy', 5.0), ('FemaleDatingStrategy', 'technology', 3.0), ('FemaleDatingStrategy', 'TrollXChromosomes', 2.0), ('FemaleDatingStrategy', 'coolguides', 1.0)]\n",
      "['FemaleLevelUpStrategy', 'technology', 'TrollXChromosomes', 'coolguides', 'FemaleDatingStrategy']\n"
     ]
    }
   ],
   "source": [
    "edge_tuples = [(sub_of_interest, sub, w) for w, sub in zip(df_nx['weight_total'], df_nx['target'])]\n",
    "\n",
    "print(edge_tuples)\n",
    "\n",
    "node_list = df_nx['target'].tolist()\n",
    "node_list = node_list + [sub_of_interest]\n",
    "\n",
    "print(node_list)"
   ]
  },
  {
   "cell_type": "code",
   "execution_count": 5,
   "metadata": {},
   "outputs": [
    {
     "data": {
      "text/html": [
       "\n",
       "        <iframe\n",
       "            width=\"500px\"\n",
       "            height=\"500px\"\n",
       "            src=\"nodes.html\"\n",
       "            frameborder=\"0\"\n",
       "            allowfullscreen\n",
       "        ></iframe>\n",
       "        "
      ],
      "text/plain": [
       "<IPython.lib.display.IFrame at 0x2c7bfd818b0>"
      ]
     },
     "execution_count": 5,
     "metadata": {},
     "output_type": "execute_result"
    }
   ],
   "source": [
    "nx = Network(notebook=True)\n",
    "\n",
    "nx.add_nodes(node_list, label=node_list)\n",
    "\n",
    "nx.add_edges(edge_tuples)\n",
    "\n",
    "nx.show(\"nodes.html\")"
   ]
  },
  {
   "cell_type": "code",
   "execution_count": null,
   "metadata": {},
   "outputs": [],
   "source": []
  }
 ],
 "metadata": {
  "kernelspec": {
   "display_name": "Python 3",
   "language": "python",
   "name": "python3"
  },
  "language_info": {
   "codemirror_mode": {
    "name": "ipython",
    "version": 3
   },
   "file_extension": ".py",
   "mimetype": "text/x-python",
   "name": "python",
   "nbconvert_exporter": "python",
   "pygments_lexer": "ipython3",
   "version": "3.8.8"
  }
 },
 "nbformat": 4,
 "nbformat_minor": 4
}
